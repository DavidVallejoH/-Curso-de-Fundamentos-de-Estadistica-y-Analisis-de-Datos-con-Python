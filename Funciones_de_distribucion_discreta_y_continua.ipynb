{
  "nbformat": 4,
  "nbformat_minor": 0,
  "metadata": {
    "colab": {
      "name": "Funciones de distribucion discreta y continua.ipynb",
      "provenance": [],
      "authorship_tag": "ABX9TyPD/Qxvyf5qbHpQ0fEh3Emx",
      "include_colab_link": true
    },
    "kernelspec": {
      "name": "python3",
      "display_name": "Python 3"
    }
  },
  "cells": [
    {
      "cell_type": "markdown",
      "metadata": {
        "id": "view-in-github",
        "colab_type": "text"
      },
      "source": [
        "<a href=\"https://colab.research.google.com/github/MasterDohko/-Curso-de-Fundamentos-de-Estadistica-y-Analisis-de-Datos-con-Python/blob/master/Funciones_de_distribucion_discreta_y_continua.ipynb\" target=\"_parent\"><img src=\"https://colab.research.google.com/assets/colab-badge.svg\" alt=\"Open In Colab\"/></a>"
      ]
    },
    {
      "cell_type": "markdown",
      "metadata": {
        "id": "bhsPCMn2MGb-",
        "colab_type": "text"
      },
      "source": [
        "###Distribución de probabilidad discreta\n",
        "Propiedades\n",
        "\n",
        "Rango / contener todos los valores de X\n",
        "\n",
        "Probabilidad / no debe superar el valor de 1\n",
        "\n",
        "Probabilidad acumulada / suma de las probabilidades\n",
        "\n",
        "Regla de completitud de Espacio / contemplar todos los valores posibles, la sumatoria debe ser siempre 1\n",
        "\n",
        "MEDI![alt text](https://)DA TENDENCIA CENTRAL\n",
        "Valor esperado / promedio\n",
        "\n",
        "DEVIACION ESTANDAR\n",
        "Varianza / cuadrado diferencias entre la media y el observado"
      ]
    },
    {
      "cell_type": "code",
      "metadata": {
        "id": "zBLaI9m6NEpr",
        "colab_type": "code",
        "colab": {
          "base_uri": "https://localhost:8080/",
          "height": 72
        },
        "outputId": "8ff4e782-7a0c-44e9-debc-0023c225cad7"
      },
      "source": [
        "import scipy.stats\n",
        "import numpy as np\n",
        "import pandas as pd\n",
        "import matplotlib.pyplot as plt\n",
        "import seaborn as sns\n",
        "%matplotlib inline"
      ],
      "execution_count": 1,
      "outputs": [
        {
          "output_type": "stream",
          "text": [
            "/usr/local/lib/python3.6/dist-packages/statsmodels/tools/_testing.py:19: FutureWarning: pandas.util.testing is deprecated. Use the functions in the public API at pandas.testing instead.\n",
            "  import pandas.util.testing as tm\n"
          ],
          "name": "stderr"
        }
      ]
    },
    {
      "cell_type": "code",
      "metadata": {
        "id": "G0JEdYfBNQDx",
        "colab_type": "code",
        "colab": {
          "base_uri": "https://localhost:8080/",
          "height": 298
        },
        "outputId": "0d00c5fc-a9ce-4d62-df83-b1a9f06a3541"
      },
      "source": [
        "from scipy.stats import binom\n",
        "\n",
        "p = 0.3\n",
        "n = 8\n",
        "\n",
        "x = list(range(0,9,1))\n",
        "y = list([])\n",
        "\n",
        "for i in x:\n",
        "  y.append(binom.pmf(i, p=p, n=n))\n",
        "\n",
        "fig, ax = plt.subplots()\n",
        "ax.bar(x,y)\n",
        "ax.set_ylabel('probabilidad discreta')\n",
        "ax.set_title('barras')\n",
        "\n",
        "np.sum(y)"
      ],
      "execution_count": 13,
      "outputs": [
        {
          "output_type": "execute_result",
          "data": {
            "text/plain": [
              "1.0000000000000002"
            ]
          },
          "metadata": {
            "tags": []
          },
          "execution_count": 13
        },
        {
          "output_type": "display_data",
          "data": {
            "image/png": "[encoded data removed]",
            "text/plain": [
              "<Figure size 432x288 with 1 Axes>"
            ]
          },
          "metadata": {
            "tags": [],
            "needs_background": "light"
          }
        }
      ]
    },
    {
      "cell_type": "code",
      "metadata": {
        "id": "4hiPEb4xNTI0",
        "colab_type": "code",
        "colab": {
          "base_uri": "https://localhost:8080/",
          "height": 34
        },
        "outputId": "b1a57bc4-7a0d-41b0-b187-c261d081db0b"
      },
      "source": [
        "media = np.average(x, weights= y)\n",
        "varianza = np.average(((x-media)**2), weights= y)\n",
        "media,varianza"
      ],
      "execution_count": 17,
      "outputs": [
        {
          "output_type": "execute_result",
          "data": {
            "text/plain": [
              "(2.4, 1.68)"
            ]
          },
          "metadata": {
            "tags": []
          },
          "execution_count": 17
        }
      ]
    },
    {
      "cell_type": "code",
      "metadata": {
        "id": "10nIIc9zPFnb",
        "colab_type": "code",
        "colab": {
          "base_uri": "https://localhost:8080/",
          "height": 298
        },
        "outputId": "75523543-bb94-4382-9302-3b5ea90d481f"
      },
      "source": [
        "fig, ax = plt.subplots()\n",
        "ax.bar(x,y)\n",
        "ax.set_ylabel('probabilidad discreta')\n",
        "ax.axvline( x= media, c='r', linestyle = '--', label ='Valor esperado')\n",
        "ax.axvline( x= media +3*np.sqrt(varianza), c='g', linestyle = '--', label ='Desviacion estandar')\n",
        "ax.legend()\n",
        "ax.set_title('barras')"
      ],
      "execution_count": 21,
      "outputs": [
        {
          "output_type": "execute_result",
          "data": {
            "text/plain": [
              "Text(0.5, 1.0, 'barras')"
            ]
          },
          "metadata": {
            "tags": []
          },
          "execution_count": 21
        },
        {
          "output_type": "display_data",
          "data": {
            "image/png": "[encoded data removed]",
            "text/plain": [
              "<Figure size 432x288 with 1 Axes>"
            ]
          },
          "metadata": {
            "tags": [],
            "needs_background": "light"
          }
        }
      ]
    },
    {
      "cell_type": "markdown",
      "metadata": {
        "id": "aLDmXcGDPxha",
        "colab_type": "text"
      },
      "source": [
        "###Distribución de probabilidad continuas\n"
      ]
    },
    {
      "cell_type": "code",
      "metadata": {
        "id": "xeLAkRXPQCZm",
        "colab_type": "code",
        "colab": {
          "base_uri": "https://localhost:8080/",
          "height": 298
        },
        "outputId": "ff784c15-493c-4135-a97e-2908971e0b91"
      },
      "source": [
        "N = 100\n",
        "x = list(range(0, N+1, 1))\n",
        "y = list([])\n",
        "\n",
        "for i in x:\n",
        "  y.append(binom.pmf(i, p=0.3, n=N))\n",
        "\n",
        "fig, ax = plt.subplots()\n",
        "ax.plot(x, y)\n",
        "ax.set_title('Probabilidad Continua')"
      ],
      "execution_count": 23,
      "outputs": [
        {
          "output_type": "execute_result",
          "data": {
            "text/plain": [
              "Text(0.5, 1.0, 'Probabilidad Continua')"
            ]
          },
          "metadata": {
            "tags": []
          },
          "execution_count": 23
        },
        {
          "output_type": "display_data",
          "data": {
            "image/png": "[encoded data removed]",
            "text/plain": [
              "<Figure size 432x288 with 1 Axes>"
            ]
          },
          "metadata": {
            "tags": [],
            "needs_background": "light"
          }
        }
      ]
    },
    {
      "cell_type": "code",
      "metadata": {
        "id": "k1a1UMWOQvIC",
        "colab_type": "code",
        "colab": {
          "base_uri": "https://localhost:8080/",
          "height": 298
        },
        "outputId": "c549c92d-b320-4012-81b7-b1faa44041cd"
      },
      "source": [
        "N = 100\n",
        "x = list(range(0, N+1, 1))\n",
        "y = list([])\n",
        "\n",
        "for i in x:\n",
        "  y.append(binom.cdf(i, p=0.3, n=N))\n",
        "\n",
        "fig, ax = plt.subplots()\n",
        "ax.plot(x, y)\n",
        "ax.set_title('Probabilidad Acumulada')"
      ],
      "execution_count": 24,
      "outputs": [
        {
          "output_type": "execute_result",
          "data": {
            "text/plain": [
              "Text(0.5, 1.0, 'Probabilidad Acumulada')"
            ]
          },
          "metadata": {
            "tags": []
          },
          "execution_count": 24
        },
        {
          "output_type": "display_data",
          "data": {
            "image/png": "[encoded data removed]",
            "text/plain": [
              "<Figure size 432x288 with 1 Axes>"
            ]
          },
          "metadata": {
            "tags": [],
            "needs_background": "light"
          }
        }
      ]
    },
    {
      "cell_type": "code",
      "metadata": {
        "id": "WFoLwWETQ7QV",
        "colab_type": "code",
        "colab": {
          "base_uri": "https://localhost:8080/",
          "height": 34
        },
        "outputId": "14cf154f-1615-4bea-b706-55daa330b5b3"
      },
      "source": [
        "from scipy.stats import norm\n",
        "mean, var, skew, kurt = norm.stats(moments = 'mvsk')\n",
        "mean, var, skew, kurt"
      ],
      "execution_count": 29,
      "outputs": [
        {
          "output_type": "execute_result",
          "data": {
            "text/plain": [
              "(array(0.), array(1.), array(0.), array(0.))"
            ]
          },
          "metadata": {
            "tags": []
          },
          "execution_count": 29
        }
      ]
    },
    {
      "cell_type": "code",
      "metadata": {
        "id": "L0iwpkNURKiB",
        "colab_type": "code",
        "colab": {}
      },
      "source": [
        ""
      ],
      "execution_count": null,
      "outputs": []
    }
  ]
}