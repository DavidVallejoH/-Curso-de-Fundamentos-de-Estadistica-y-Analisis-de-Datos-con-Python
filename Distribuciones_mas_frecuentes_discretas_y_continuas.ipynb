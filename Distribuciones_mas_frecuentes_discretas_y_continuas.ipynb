{
  "nbformat": 4,
  "nbformat_minor": 0,
  "metadata": {
    "colab": {
      "name": "Distribuciones mas frecuentes discretas y continuas.ipynb",
      "provenance": [],
      "authorship_tag": "ABX9TyO+vHr2eLV4fcFJNkoryala",
      "include_colab_link": true
    },
    "kernelspec": {
      "name": "python3",
      "display_name": "Python 3"
    }
  },
  "cells": [
    {
      "cell_type": "markdown",
      "metadata": {
        "id": "view-in-github",
        "colab_type": "text"
      },
      "source": [
        "<a href=\"https://colab.research.google.com/github/MasterDohko/-Curso-de-Fundamentos-de-Estadistica-y-Analisis-de-Datos-con-Python/blob/master/Distribuciones_mas_frecuentes_discretas_y_continuas.ipynb\" target=\"_parent\"><img src=\"https://colab.research.google.com/assets/colab-badge.svg\" alt=\"Open In Colab\"/></a>"
      ]
    },
    {
      "cell_type": "markdown",
      "metadata": {
        "id": "C0dFb85aSOmW",
        "colab_type": "text"
      },
      "source": [
        "### DISTRIBUCION DE PROBABILIDAD DISCRETA DE MAYOR APLICACION\n",
        "\n",
        "1. Distribución de Bernoulli\n",
        "\n",
        "    Experimento binario asociado al existo o fracaso\n",
        "\n",
        "2. Distribución Binomial\n",
        "\n",
        "    Número de éxitos x en N ensayos\n",
        "\n",
        "3. Distribución Geométrica\n",
        "\n",
        "    Número de ensayos x hasta 1 éxito \n",
        "\n",
        "4. Distribución Binomial Negativa\n",
        "\n",
        "    Número de ensayos x hasta el k-ésimo éxito\n",
        "\n",
        "5. Distribución de Poisson\n",
        "\n",
        "    Numero de llegadas en N a una longitud de tiempo t"
      ]
    },
    {
      "cell_type": "code",
      "metadata": {
        "id": "CjmxJyQYTEdJ",
        "colab_type": "code",
        "colab": {}
      },
      "source": [
        "import matplotlib.pyplot as plt\n"
      ],
      "execution_count": null,
      "outputs": []
    },
    {
      "cell_type": "markdown",
      "metadata": {
        "id": "G9vkAPoZTREc",
        "colab_type": "text"
      },
      "source": [
        "####BERNOULLI"
      ]
    },
    {
      "cell_type": "code",
      "metadata": {
        "id": "8VMP_tZBTSvD",
        "colab_type": "code",
        "colab": {
          "base_uri": "https://localhost:8080/",
          "height": 89
        },
        "outputId": "5c64eb98-8b9f-4cab-e98d-9fc8d97e1292"
      },
      "source": [
        "from scipy.stats import bernoulli\n",
        "import seaborn as sns\n",
        "p = 0.3\n",
        "data = bernoulli.rvs(p, size=100)\n",
        "len(data)"
      ],
      "execution_count": null,
      "outputs": [
        {
          "output_type": "stream",
          "text": [
            "/usr/local/lib/python3.6/dist-packages/statsmodels/tools/_testing.py:19: FutureWarning: pandas.util.testing is deprecated. Use the functions in the public API at pandas.testing instead.\n",
            "  import pandas.util.testing as tm\n"
          ],
          "name": "stderr"
        },
        {
          "output_type": "execute_result",
          "data": {
            "text/plain": [
              "100"
            ]
          },
          "metadata": {
            "tags": []
          },
          "execution_count": 10
        }
      ]
    },
    {
      "cell_type": "code",
      "metadata": {
        "id": "U9yMSzo2TYou",
        "colab_type": "code",
        "colab": {
          "base_uri": "https://localhost:8080/",
          "height": 34
        },
        "outputId": "65baaef9-48a3-460a-b0d3-f9b7481f239c"
      },
      "source": [
        "mean, var, skew, kurt = bernoulli.stats(p, moments = 'mvsk')\n",
        "mean, var, skew, kurt"
      ],
      "execution_count": null,
      "outputs": [
        {
          "output_type": "execute_result",
          "data": {
            "text/plain": [
              "(array(0.3), array(0.21), array(0.87287156), array(-1.23809524))"
            ]
          },
          "metadata": {
            "tags": []
          },
          "execution_count": 11
        }
      ]
    },
    {
      "cell_type": "code",
      "metadata": {
        "id": "b_TTxDtUTmK_",
        "colab_type": "code",
        "colab": {
          "base_uri": "https://localhost:8080/",
          "height": 299
        },
        "outputId": "3415f3a0-a6e1-40dc-dbf5-b2bfd04aaf7f"
      },
      "source": [
        "ax = sns.distplot(data, bins = 30, kde = False, color='blue')\n",
        "ax.set(xlabel='Distribucion Bernoulli', ylabel='Frecuencia')"
      ],
      "execution_count": null,
      "outputs": [
        {
          "output_type": "execute_result",
          "data": {
            "text/plain": [
              "[Text(0, 0.5, 'Frecuencia'), Text(0.5, 0, 'Distribucion Bernoulli')]"
            ]
          },
          "metadata": {
            "tags": []
          },
          "execution_count": 13
        },
        {
          "output_type": "display_data",
          "data": {
            "image/png": "[encoded data removed]",
            "text/plain": [
              "<Figure size 432x288 with 1 Axes>"
            ]
          },
          "metadata": {
            "tags": [],
            "needs_background": "light"
          }
        }
      ]
    },
    {
      "cell_type": "code",
      "metadata": {
        "id": "HBUfeuAPT_mK",
        "colab_type": "code",
        "colab": {
          "base_uri": "https://localhost:8080/",
          "height": 299
        },
        "outputId": "39851217-44d6-4ca9-e685-dfccf1c60bb4"
      },
      "source": [
        "ax = sns.distplot(data, bins = 30, kde = False, color='blue')\n",
        "ax.set(xlabel='Distribucion Bernoulli', ylabel='Frecuencia')\n",
        "ax.axvline(x = mean, linestyle = '--', label ='Media')\n",
        "ax.legend()"
      ],
      "execution_count": 14,
      "outputs": [
        {
          "output_type": "execute_result",
          "data": {
            "text/plain": [
              "<matplotlib.legend.Legend at 0x7f6f8ccb7908>"
            ]
          },
          "metadata": {
            "tags": []
          },
          "execution_count": 14
        },
        {
          "output_type": "display_data",
          "data": {
            "image/png": "[encoded data removed]",
            "text/plain": [
              "<Figure size 432x288 with 1 Axes>"
            ]
          },
          "metadata": {
            "tags": [],
            "needs_background": "light"
          }
        }
      ]
    },
    {
      "cell_type": "markdown",
      "metadata": {
        "id": "hQpIimIS1plS",
        "colab_type": "text"
      },
      "source": [
        "### Distribucion binomial"
      ]
    },
    {
      "cell_type": "code",
      "metadata": {
        "id": "BCO1RKw-zncP",
        "colab_type": "code",
        "colab": {
          "base_uri": "https://localhost:8080/",
          "height": 34
        },
        "outputId": "18599a31-2ecb-4e0f-ef0c-b43de4e10f58"
      },
      "source": [
        "from scipy.stats import binom\n",
        "p = 0.3\n",
        "n = 10\n",
        "data = binom.rvs(p=p, n=n, size=100)\n",
        "len(data)"
      ],
      "execution_count": 18,
      "outputs": [
        {
          "output_type": "execute_result",
          "data": {
            "text/plain": [
              "100"
            ]
          },
          "metadata": {
            "tags": []
          },
          "execution_count": 18
        }
      ]
    },
    {
      "cell_type": "code",
      "metadata": {
        "id": "ngH-q23hz05x",
        "colab_type": "code",
        "colab": {
          "base_uri": "https://localhost:8080/",
          "height": 34
        },
        "outputId": "647482da-e43d-4549-99f6-e34207f5960c"
      },
      "source": [
        "mean, var, skew, kurt = binom.stats(p=p, n=n, moments = 'mvsk')\n",
        "mean, var, skew, kurt\n"
      ],
      "execution_count": 20,
      "outputs": [
        {
          "output_type": "execute_result",
          "data": {
            "text/plain": [
              "(array(3.), array(2.1), array(0.27602622), array(-0.12380952))"
            ]
          },
          "metadata": {
            "tags": []
          },
          "execution_count": 20
        }
      ]
    },
    {
      "cell_type": "code",
      "metadata": {
        "id": "S1Hipncq0Eej",
        "colab_type": "code",
        "colab": {
          "base_uri": "https://localhost:8080/",
          "height": 296
        },
        "outputId": "3c2ede12-b3c4-49ce-a142-afc11329ce04"
      },
      "source": [
        "ax = sns.distplot(data, bins = 30, kde = False, color='blue')\n",
        "ax.set(xlabel='Distribucion Binomial', ylabel='Frecuencia')\n",
        "ax.axvline(x = mean, linestyle = '--', label ='Media')\n",
        "ax.legend()"
      ],
      "execution_count": 21,
      "outputs": [
        {
          "output_type": "execute_result",
          "data": {
            "text/plain": [
              "<matplotlib.legend.Legend at 0x7f6f8a386748>"
            ]
          },
          "metadata": {
            "tags": []
          },
          "execution_count": 21
        },
        {
          "output_type": "display_data",
          "data": {
            "image/png": "[encoded data removed]",
            "text/plain": [
              "<Figure size 432x288 with 1 Axes>"
            ]
          },
          "metadata": {
            "tags": [],
            "needs_background": "light"
          }
        }
      ]
    },
    {
      "cell_type": "markdown",
      "metadata": {
        "id": "T2q5WZRz1s2j",
        "colab_type": "text"
      },
      "source": [
        "### DISTRIBUCION GEOMETRICA\n",
        "Caso particular de la distribucion binominal negativa"
      ]
    },
    {
      "cell_type": "code",
      "metadata": {
        "id": "PLYhONd21rdi",
        "colab_type": "code",
        "colab": {
          "base_uri": "https://localhost:8080/",
          "height": 34
        },
        "outputId": "f37bb684-de83-43ec-9088-2e394e111f09"
      },
      "source": [
        "from scipy.stats import nbinom\n",
        "p = 0.3\n",
        "n = 1\n",
        "\n",
        "data = nbinom.rvs(p=p, n=n, size=100)\n",
        "len(data)"
      ],
      "execution_count": 22,
      "outputs": [
        {
          "output_type": "execute_result",
          "data": {
            "text/plain": [
              "100"
            ]
          },
          "metadata": {
            "tags": []
          },
          "execution_count": 22
        }
      ]
    },
    {
      "cell_type": "code",
      "metadata": {
        "id": "d0ONJ0yt0K0Y",
        "colab_type": "code",
        "colab": {
          "base_uri": "https://localhost:8080/",
          "height": 34
        },
        "outputId": "da5b60b4-11f6-4ce6-9229-e664d9b6452a"
      },
      "source": [
        "mean, var, skew, kurt = nbinom.stats(p=p, n=n, moments = 'mvsk')\n",
        "mean, var, skew, kurt"
      ],
      "execution_count": 25,
      "outputs": [
        {
          "output_type": "execute_result",
          "data": {
            "text/plain": [
              "(array(2.33333333), array(7.77777778), array(2.03188864), array(6.12857143))"
            ]
          },
          "metadata": {
            "tags": []
          },
          "execution_count": 25
        }
      ]
    },
    {
      "cell_type": "code",
      "metadata": {
        "id": "cxipj6fq2LuI",
        "colab_type": "code",
        "colab": {
          "base_uri": "https://localhost:8080/",
          "height": 296
        },
        "outputId": "dff0f87b-df48-459b-8350-5e43e2ed0ce1"
      },
      "source": [
        "ax = sns.distplot(data, bins = 30, kde = False, color='blue')\n",
        "ax.set(xlabel='Distribucion Geometrica o binominal negativa', ylabel='Frecuencia')\n",
        "ax.axvline(x = mean, linestyle = '--', label ='Media')\n",
        "ax.legend()"
      ],
      "execution_count": 27,
      "outputs": [
        {
          "output_type": "execute_result",
          "data": {
            "text/plain": [
              "<matplotlib.legend.Legend at 0x7f6f8a1f2c50>"
            ]
          },
          "metadata": {
            "tags": []
          },
          "execution_count": 27
        },
        {
          "output_type": "display_data",
          "data": {
            "image/png": "[encoded data removed]",
            "text/plain": [
              "<Figure size 432x288 with 1 Axes>"
            ]
          },
          "metadata": {
            "tags": [],
            "needs_background": "light"
          }
        }
      ]
    },
    {
      "cell_type": "markdown",
      "metadata": {
        "id": "hFsebVFl2vtg",
        "colab_type": "text"
      },
      "source": [
        "### DISTRIBUCION POISSON\n"
      ]
    },
    {
      "cell_type": "code",
      "metadata": {
        "id": "JTfiP7am2TSn",
        "colab_type": "code",
        "colab": {
          "base_uri": "https://localhost:8080/",
          "height": 34
        },
        "outputId": "3a316908-9a3a-4bd1-c949-f39b2ef79854"
      },
      "source": [
        "from scipy.stats import poisson\n",
        "lambda_p = 30000\n",
        "data = poisson.rvs(mu=lambda_p ,size=100)\n",
        "len(data)"
      ],
      "execution_count": 44,
      "outputs": [
        {
          "output_type": "execute_result",
          "data": {
            "text/plain": [
              "100"
            ]
          },
          "metadata": {
            "tags": []
          },
          "execution_count": 44
        }
      ]
    },
    {
      "cell_type": "code",
      "metadata": {
        "id": "Sr4runz23JRj",
        "colab_type": "code",
        "colab": {
          "base_uri": "https://localhost:8080/",
          "height": 34
        },
        "outputId": "fd3fb33a-ea23-42ac-f9a8-3bc9bdcdb278"
      },
      "source": [
        "mean, var, skew, kurt = poisson.stats(mu=lambda_p, moments = 'mvsk')\n",
        "mean, var, skew, kurt"
      ],
      "execution_count": 46,
      "outputs": [
        {
          "output_type": "execute_result",
          "data": {
            "text/plain": [
              "(array(30000.), array(30000.), array(0.0057735), array(3.33333333e-05))"
            ]
          },
          "metadata": {
            "tags": []
          },
          "execution_count": 46
        }
      ]
    },
    {
      "cell_type": "code",
      "metadata": {
        "id": "VrUf_YzN3Ci_",
        "colab_type": "code",
        "colab": {
          "base_uri": "https://localhost:8080/",
          "height": 296
        },
        "outputId": "15207bb1-d57b-4786-fefe-b90234123b41"
      },
      "source": [
        "ax = sns.distplot(data, bins = 30, kde = False, color='blue')\n",
        "ax.set(xlabel='Distribucion Poisson', ylabel='Frecuencia')\n",
        "ax.axvline(x = mean, linestyle = '--', label ='Media')\n",
        "ax.legend()"
      ],
      "execution_count": 47,
      "outputs": [
        {
          "output_type": "execute_result",
          "data": {
            "text/plain": [
              "<matplotlib.legend.Legend at 0x7f6f89ffd0b8>"
            ]
          },
          "metadata": {
            "tags": []
          },
          "execution_count": 47
        },
        {
          "output_type": "display_data",
          "data": {
            "image/png": "[encoded data removed]",
            "text/plain": [
              "<Figure size 432x288 with 1 Axes>"
            ]
          },
          "metadata": {
            "tags": [],
            "needs_background": "light"
          }
        }
      ]
    }
  ]
}